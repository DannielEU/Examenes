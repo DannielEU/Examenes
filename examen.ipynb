{
 "cells": [
  {
   "cell_type": "markdown",
   "metadata": {},
   "source": [
    "# Calculadora de Imaginarios"
   ]
  },
  {
   "cell_type": "code",
   "execution_count": null,
   "metadata": {},
   "outputs": [],
   "source": [
    "import math\n",
    "\n",
    "def suma(c1, c2):\n",
    "    return (c1[0] + c2[0], c1[1] + c2[1])\n",
    "\n",
    "def resta(c1, c2):\n",
    "    return (c1[0] - c2[0], c1[1] - c2[1])\n",
    "\n",
    "def producto(c1, c2):\n",
    "    real = c1[0] * c2[0] - c1[1] * c2[1]\n",
    "    imaginaria = c1[0] * c2[1] + c1[1] * c2[0]\n",
    "    return (real, imaginaria)\n",
    "\n",
    "def division(c1, c2):\n",
    "    if c2 == (0, 0):\n",
    "        raise ValueError(\"No se puede dividir entre cero\")\n",
    "    divisor = c2[0]**2 + c2[1]**2\n",
    "    real = (c1[0] * c2[0] + c1[1] * c2[1]) / divisor\n",
    "    imaginaria = (c1[1] * c2[0] - c1[0] * c2[1]) / divisor\n",
    "    return (round(real, 2), round(imaginaria, 2))\n",
    "\n",
    "def modulo(c):\n",
    "    return math.sqrt(c[0]**2 + c[1]**2)\n",
    "\n",
    "def conjugado(c):\n",
    "    return (c[0], -c[1])\n",
    "\n",
    "def polar_a_cartesiano(polar):\n",
    "    r, theta = polar\n",
    "    x = r * math.cos(theta)\n",
    "    y = r * math.sin(theta)\n",
    "    return (round(x, 4), round(y, 4))\n",
    "\n",
    "def cartesiano_a_polar(cartesiano):\n",
    "    x, y = cartesiano\n",
    "    r = math.sqrt(x**2 + y**2)\n",
    "    theta = math.atan2(y, x)\n",
    "    return (round(r, 4), round(theta, 4))\n",
    "\n",
    "def fase(c):\n",
    "    return round(math.atan2(c[1], c[0]), 4)"
   ]
  },
  {
   "cell_type": "markdown",
   "metadata": {},
   "source": [
    "# Sum of Two Complex Vectors"
   ]
  },
  {
   "cell_type": "code",
   "execution_count": null,
   "metadata": {},
   "outputs": [],
   "source": [
    "import numpy as np\n",
    "\n",
    "v1= np.array([[1+2j],[3-1j]])\n",
    "v2 = np.array([[2-1j],[4+2j]])\n",
    "sum_v = v1 + v2\n",
    "print (f\"Vector1\\n[{v1}\")\n",
    "print (f\"Vector2\\n[{v2}\")\n",
    "print(\"=\"*20)\n",
    "print (f\"Suma de vectores\")\n",
    "print(v1, \"+\\n\",v2)\n",
    "print(\"=\"*20)\n",
    "print(\"resultado:\\n \",sum_v)"
   ]
  },
  {
   "cell_type": "markdown",
   "metadata": {},
   "source": [
    "# Negation of a Complex Vector"
   ]
  },
  {
   "cell_type": "code",
   "execution_count": null,
   "metadata": {},
   "outputs": [],
   "source": [
    "import numpy as np\n",
    "v= np.array ([[2+3j],[1-2j]])\n",
    "negacion_v = -v\n",
    "print(f\"Vector \\n{v}\")\n",
    "print(\"=\"*20)\n",
    "print(f\"la negación de \\n{v}\\n=====\\n {negacion_v}\")\n",
    "print(\"=\"*20)"
   ]
  },
  {
   "cell_type": "markdown",
   "metadata": {},
   "source": [
    "# Multiplication of a Complex Vector by a Scalar"
   ]
  },
  {
   "cell_type": "code",
   "execution_count": null,
   "metadata": {},
   "outputs": [],
   "source": [
    "import numpy as np\n",
    "v= np.array ([[1-1j],[2+2j]])\n",
    "escalar = 3 + 1j\n",
    "mult_es = v * escalar\n",
    "print(f\"Vector \\n{v}\\n Escalar \\n{escalar}\")\n",
    "print(\"=======================\")\n",
    "print(f\"Multiplicacion\\n {mult_es}\")"
   ]
  },
  {
   "cell_type": "markdown",
   "metadata": {},
   "source": [
    "# Transpose of a Complex Vector"
   ]
  },
  {
   "cell_type": "code",
   "execution_count": null,
   "metadata": {},
   "outputs": [],
   "source": [
    "import numpy as np\n",
    "v = np.array([[2-1j],[3+4j]])\n",
    "print(\"=\"*20)\n",
    "transpuesta_v = v.T\n",
    "print(f\"la transpuesta de\\n{v}\\nes:\\n{transpuesta_v}\")"
   ]
  },
  {
   "cell_type": "markdown",
   "metadata": {},
   "source": [
    "# Conjugate of a Complex Vector"
   ]
  },
  {
   "cell_type": "code",
   "execution_count": null,
   "metadata": {},
   "outputs": [],
   "source": [
    "import numpy as np\n",
    "\n",
    "v = np.array([[1+1j],[2-3j]])\n",
    "conjugado_v = np.conjugate(v)\n",
    "print(\"=\"*20)\n",
    "print(f\"el conjugado de\\n{v}\\nes:\\n{conjugado_v}\")"
   ]
  },
  {
   "cell_type": "markdown",
   "metadata": {},
   "source": [
    "# Adjunct (Conjugate Transpose) of a Complex Vector"
   ]
  },
  {
   "cell_type": "code",
   "execution_count": null,
   "metadata": {},
   "outputs": [],
   "source": [
    "import numpy as np\n",
    "print(\"=\"*20)\n",
    "v = np.array([[1-2j],[3+1j]])\n",
    "adjunct_v = v.T.conj()\n",
    "print(f\"la adjunta de:\\n{v}\\nes:\\n{adjunct_v}\")"
   ]
  },
  {
   "cell_type": "markdown",
   "metadata": {},
   "source": [
    "# Sum of Two Complex Matrices"
   ]
  },
  {
   "cell_type": "code",
   "execution_count": null,
   "metadata": {},
   "outputs": [],
   "source": [
    "m1 = np.array([[1+1j,2-1j],[3+2j,4]])\n",
    "m2 = np.array([[2-3j,1],[1j,2+2j]])\n",
    "print(f\"Matriz 1 {m1}\")\n",
    "print(\"=\"*20)\n",
    "print(f\"Matriz 2 {m2}\")\n",
    "print(\"=\"*20)\n",
    "suma = m1 + m2\n",
    "print(f\"la suma de las matrices es\\n{suma}\")"
   ]
  },
  {
   "cell_type": "markdown",
   "metadata": {},
   "source": [
    "# Negation of a Complex Matrix"
   ]
  },
  {
   "cell_type": "code",
   "execution_count": null,
   "metadata": {},
   "outputs": [],
   "source": [
    "m1 = np.array([[2+1j,3],[1-1j,2+2j]])\n",
    "neg = -m1\n",
    "print(\"=\"*20)\n",
    "print(f\"la negación de la matriz \\n{m1}\\nes:\\n{neg}\")"
   ]
  },
  {
   "cell_type": "markdown",
   "metadata": {},
   "source": [
    "# Multiplication of a Complex Matrix by a Scalar"
   ]
  },
  {
   "cell_type": "code",
   "execution_count": null,
   "metadata": {},
   "outputs": [],
   "source": [
    "import numpy as np\n",
    "m = np.array([[1-1j,2],[3+1j,4-2j]])\n",
    "escalar = 2 + 3j\n",
    "mult = m * escalar\n",
    "print(f\"Matriz \\n {m}\")\n",
    "print(\"======================\")\n",
    "print(f\"Matriz \\n {escalar}\")\n",
    "print(\"======================\")\n",
    "print(f\"multiplicacion:\\n{mult}\")"
   ]
  },
  {
   "cell_type": "markdown",
   "metadata": {},
   "source": [
    "# Conjugate of a Complex Matrix"
   ]
  },
  {
   "cell_type": "code",
   "execution_count": null,
   "metadata": {},
   "outputs": [],
   "source": [
    "import numpy as np\n",
    "m = np.array([[1+1j,2],[3-1j,4+2j]])\n",
    "conj = np.conjugate(m)\n",
    "print(f\"Matriz \\n {m}\")\n",
    "print(\"=\"*20)\n",
    "print(f\"conjugado:\\n{conj}\")"
   ]
  },
  {
   "cell_type": "markdown",
   "metadata": {},
   "source": [
    "# Transpose of a Complex Matrix"
   ]
  },
  {
   "cell_type": "code",
   "execution_count": null,
   "metadata": {},
   "outputs": [],
   "source": [
    "import numpy as np\n",
    "m = np.array([[1-1j,2+2j],[3,4-1j]])\n",
    "transp = m.T\n",
    "print(f\"Matriz \\n {m}\")\n",
    "print(\"=\"*20)\n",
    "print(f\"transpuesta:\\n{transp}\")"
   ]
  },
  {
   "cell_type": "markdown",
   "metadata": {},
   "source": [
    "# Adjunct (Conjugate Transpose) of a Complex Matrix"
   ]
  },
  {
   "cell_type": "code",
   "execution_count": null,
   "metadata": {},
   "outputs": [],
   "source": [
    "import numpy as np\n",
    "m = np.array([[1-1j,2+2j],[3,4-1j]])\n",
    "adjunct = m.T.conj()\n",
    "print(f\"Matriz \\n {m}\")\n",
    "print(\"=\"*20)\n",
    "print(f\"adjunta:\\n{adjunct}\")"
   ]
  },
  {
   "cell_type": "markdown",
   "metadata": {},
   "source": [
    "# Checking the Dimensions of a Matrix"
   ]
  },
  {
   "cell_type": "code",
   "execution_count": null,
   "metadata": {},
   "outputs": [],
   "source": [
    "m = np.array([[1-1j,2],[3+2j,4-1j]])\n",
    "print(\"=\"*20)\n",
    "print(f\"la dimensión de la matriz\\n{m}\\nes:\\n{m.shape}\")"
   ]
  },
  {
   "cell_type": "markdown",
   "metadata": {},
   "source": [
    "# Multiplying a Complex Square Matrix by a Complex Column Vector"
   ]
  },
  {
   "cell_type": "code",
   "execution_count": null,
   "metadata": {},
   "outputs": [],
   "source": [
    "m = np.array([[1+1j,2-1j],[3,4+1j]])\n",
    "v = np.array([[2-1j],[1+3j]])\n",
    "mult = np.dot(m,v)\n",
    "\n",
    "print(f\"Matriz \\n {m}\")\n",
    "print(\"=\"*20)\n",
    "print(f\"Vector \\n {v}\")\n",
    "print(\"=\"*20)\n",
    "print(f\"multiplicacion:\\n{mult}\")"
   ]
  },
  {
   "cell_type": "markdown",
   "metadata": {},
   "source": [
    "# Complex Internal Product for Column Vectors"
   ]
  },
  {
   "cell_type": "code",
   "execution_count": null,
   "metadata": {},
   "outputs": [],
   "source": [
    "import numpy as np\n",
    "# Define two square complex matrices\n",
    "matrix_A = np.array([[1+2j], [3-4j]])\n",
    "matrix_B = np.array([[2-1j], [-1+3j]])\n",
    "\n",
    "# Compute the complex internal product for matrices\n",
    "complex_internal_product_matrix = np.trace(np.dot(np.conjugate(matrix_A).T, matrix_B))\n",
    "\n",
    "complex_internal_product_matrix"
   ]
  },
  {
   "cell_type": "markdown",
   "metadata": {},
   "source": [
    "# Complex Internal Product for Square Complex Matrices"
   ]
  },
  {
   "cell_type": "code",
   "execution_count": null,
   "metadata": {},
   "outputs": [],
   "source": [
    "import numpy as np\n",
    "# Define two square complex matrices\n",
    "matrix_A = np.array([[1+1j,2-2j], [3+3j,4-1j]])\n",
    "matrix_B = np.array([[1-2j,3+1j], [4-4j,2+2j]])\n",
    "\n",
    "# Compute the complex internal product for matrices\n",
    "complex_internal_product_matrix = np.trace(np.dot(np.conjugate(matrix_A).T, matrix_B))\n",
    "\n",
    "complex_internal_product_matrix"
   ]
  },
  {
   "cell_type": "markdown",
   "metadata": {},
   "source": [
    "# Compute Eigenvalues and Eigenvectors of a Real Matrix"
   ]
  },
  {
   "cell_type": "code",
   "execution_count": null,
   "metadata": {},
   "outputs": [],
   "source": [
    "import numpy as np\n",
    "\n",
    "# Define a square matrix\n",
    "A = np.array([[4, 1], [2, 3]])\n",
    "\n",
    "# Compute eigenvalues and eigenvectors\n",
    "eigenvalues, eigenvectors = np.linalg.eig(A)\n",
    "\n",
    "print(\"Eigenvalues:\", eigenvalues)\n",
    "print(\"Eigenvectors:\\n\", eigenvectors)"
   ]
  },
  {
   "cell_type": "markdown",
   "metadata": {},
   "source": [
    "# Eigenvalues and Eigenvectors of a Complex Matrix\n"
   ]
  },
  {
   "cell_type": "code",
   "execution_count": null,
   "metadata": {},
   "outputs": [],
   "source": [
    "import numpy as np\n",
    "\n",
    "# Define a square matrix\n",
    "A = np.array([[1+2j, 2+3j], [4+5j, 6+7j]])\n",
    "\n",
    "# Compute eigenvalues and eigenvectors\n",
    "eigenvalues, eigenvectors = np.linalg.eig(A)\n",
    "\n",
    "print(\"Eigenvalues:\", eigenvalues)\n",
    "print(\"Eigenvectors:\\n\", eigenvectors)"
   ]
  },
  {
   "cell_type": "markdown",
   "metadata": {},
   "source": [
    "# Symmetric Matrix Eigendecomposition"
   ]
  },
  {
   "cell_type": "code",
   "execution_count": null,
   "metadata": {},
   "outputs": [],
   "source": [
    "import numpy as np\n",
    "\n",
    "# Define a square matrix\n",
    "A = np.array([[5, 4], [4, 5]])\n",
    "\n",
    "# Compute eigenvalues and eigenvectors\n",
    "eigenvalues, eigenvectors = np.linalg.eig(A)\n",
    "\n",
    "print(\"Eigenvalues:\", eigenvalues)\n",
    "print(\"Eigenvectors:\\n\", eigenvectors)\n",
    "\n",
    "##Las matrices simétricas tienen autovalores reales y sus autovectores correspondientes pueden elegirse ortogonales entre sí. Siempre son diagonalizables \n",
    "# y sus autovectores pueden ser normalizados, formando una base ortonormal. \n",
    "# Además, la multiplicidad geométrica y algebraica de los autovalores coinciden."
   ]
  },
  {
   "cell_type": "markdown",
   "metadata": {},
   "source": [
    "# Plotting Matrix Transformations"
   ]
  },
  {
   "cell_type": "code",
   "execution_count": null,
   "metadata": {},
   "outputs": [],
   "source": [
    "import numpy as np\n",
    "import matplotlib.pyplot as plt\n",
    "\n",
    "# Define a transformation matrix\n",
    "T = np.array([[2, 1], [1, 3]])\n",
    "\n",
    "# Generate a set of vectors (unit circle)\n",
    "theta = np.linspace(0, 2*np.pi, 100)\n",
    "vectors = np.array([np.cos(theta), np.sin(theta)])\n",
    "\n",
    "# Apply the transformation\n",
    "transformed_vectors = T.dot(vectors)\n",
    "\n",
    "# Plotting\n",
    "plt.figure(figsize=(6,6))\n",
    "plt.plot(vectors[0], vectors[1], 'b', label='Original Vectors')  # Original vectors\n",
    "plt.plot(transformed_vectors[0], transformed_vectors[1], 'r', label='Transformed Vectors')  # Transformed vectors\n",
    "plt.axis('equal')\n",
    "plt.legend()\n",
    "plt.title('Matrix Transformation')\n",
    "plt.xlabel('X')\n",
    "plt.ylabel('Y')\n",
    "plt.grid(True)\n",
    "plt.show()"
   ]
  },
  {
   "cell_type": "markdown",
   "metadata": {},
   "source": [
    "# Complex Hermitian Matrices"
   ]
  },
  {
   "cell_type": "code",
   "execution_count": null,
   "metadata": {},
   "outputs": [],
   "source": [
    "\n",
    "import numpy as np\n",
    "\n",
    "# Define a complex Hermitian matrix\n",
    "hermitian_matrix = np.array([[3,2+1j], [2-1j, 1]])\n",
    "\n",
    "# Check if the matrix is Hermitian\n",
    "is_hermitian = np.allclose(hermitian_matrix, hermitian_matrix.conj().T)\n",
    "\n",
    "is_hermitian, hermitian_matrix"
   ]
  },
  {
   "cell_type": "code",
   "execution_count": null,
   "metadata": {},
   "outputs": [],
   "source": [
    "import numpy as np\n",
    "\n",
    "# Define a square matrix\n",
    "A = np.array([[3,2+1j], [2-1j, 1]])\n",
    "\n",
    "# Compute eigenvalues and eigenvectors\n",
    "eigenvalues, eigenvectors = np.linalg.eig(A)\n",
    "\n",
    "print(\"Eigenvalues:\", eigenvalues)\n",
    "print(\"Eigenvectors:\\n\", eigenvectors)"
   ]
  },
  {
   "cell_type": "markdown",
   "metadata": {},
   "source": [
    "#  Complex Unitary Matrices"
   ]
  },
  {
   "cell_type": "code",
   "execution_count": null,
   "metadata": {},
   "outputs": [],
   "source": [
    "# Define a complex Unitary matrix\n",
    "u  = np.array([[1/np.sqrt(2), 1/np.sqrt(2) *1j], [1/np.sqrt(2) *1j, 1/np.sqrt(2)]])\n",
    "\n",
    "#\n",
    "is_unitary = np.allclose(np.dot(u, u.conj().T), np.eye(2))\n",
    "\n",
    "if is_unitary :\n",
    "    print(np.dot(u,np.conjugate(u).T))"
   ]
  },
  {
   "cell_type": "markdown",
   "metadata": {},
   "source": [
    "# Tensor Product for Complex Vectors"
   ]
  },
  {
   "cell_type": "code",
   "execution_count": null,
   "metadata": {},
   "outputs": [],
   "source": [
    "import numpy as np\n",
    "\n",
    "\n",
    "v1 = np.array([1+1j, 2-1j])\n",
    "v2 = np.array([1-2j, 3])\n",
    "\n",
    "\n",
    "tensor_product_v = np.kron(v1, v2)\n",
    "\n",
    "tensor_product_v"
   ]
  },
  {
   "cell_type": "markdown",
   "metadata": {},
   "source": [
    "### **Explicación del Producto Tensorial de Vectores**  \n",
    "\n",
    "El **producto tensorial** (o **producto de Kronecker**) es una operación que combina dos vectores para formar un nuevo vector en un espacio de mayor dimensión. Se usa en **computación cuántica**, **álgebra lineal** y otras aplicaciones matemáticas.  \n",
    "\n",
    "#### **¿Cómo funciona matemáticamente?**  \n",
    "Si tenemos dos vectores:  \n",
    "\n",
    "\\[\n",
    "v_1 = \\begin{bmatrix} a \\\\ b \\end{bmatrix}, \\quad v_2 = \\begin{bmatrix} c \\\\ d \\end{bmatrix}\n",
    "\\]\n",
    "\n",
    "El **producto tensorial** \\( v_1 \\otimes v_2 \\) se calcula multiplicando cada elemento de \\( v_1 \\) por todo el vector \\( v_2 \\), formando un nuevo vector de dimensión mayor:\n",
    "\n",
    "\\[\n",
    "v_1 \\otimes v_2 =\n",
    "\\begin{bmatrix} a \\cdot c \\\\ a \\cdot d \\\\ b \\cdot c \\\\ b \\cdot d \\end{bmatrix}\n",
    "\\]\n",
    "\n",
    "#### **Propiedades Importantes**  \n",
    "1. **Aumenta la dimensión**: Si \\( v_1 \\) tiene \\( n \\) elementos y \\( v_2 \\) tiene \\( m \\), el resultado tiene \\( n \\times m \\) elementos.  \n",
    "2. **No es conmutativo**: \\( v_1 \\otimes v_2 \\neq v_2 \\otimes v_1 \\).  \n",
    "3. **Preserva estructura**: Es clave en **mecánica cuántica** para describir sistemas de múltiples partículas o qubits.  \n",
    "\n",
    "Este producto es fundamental en la representación de sistemas combinados y se usa mucho en **computación cuántica** para representar estados entrelazados. 🚀"
   ]
  },
  {
   "cell_type": "markdown",
   "metadata": {},
   "source": [
    "# Tensor Product for Complex Matrices"
   ]
  },
  {
   "cell_type": "code",
   "execution_count": null,
   "metadata": {},
   "outputs": [],
   "source": [
    "\n",
    "# Define two complex matrices for the tensor product\n",
    "M1 = np.array([[0,1], [1, 0]])\n",
    "M2 = np.array([[1j, 0], [0, -1j]])\n",
    "\n",
    "# Calculate the tensor product\n",
    "tensor_product_m = np.kron(M1, M2)\n",
    "print(\"La matriz es: \\n\")\n",
    "tensor_product_m"
   ]
  },
  {
   "cell_type": "markdown",
   "metadata": {},
   "source": [
    "$$ H = \\frac{1}{\\sqrt{2}}\\begin{bmatrix} 1 & 1 \\\\ 1 & -1 \\end{bmatrix} $$\n",
    "\n",
    "$$ X = \\begin{bmatrix}  0 & 1 \\\\ 1 & 0\\end{bmatrix} $$\n",
    "\n",
    "$$ q0 = \\begin{bmatrix}  1 \\\\ 0 \\end{bmatrix} $$ "
   ]
  }
 ],
 "metadata": {
  "kernelspec": {
   "display_name": "base",
   "language": "python",
   "name": "python3"
  },
  "language_info": {
   "name": "python",
   "version": "3.11.7"
  }
 },
 "nbformat": 4,
 "nbformat_minor": 2
}
